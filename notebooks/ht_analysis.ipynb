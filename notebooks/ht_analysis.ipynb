{
 "cells": [
  {
   "cell_type": "markdown",
   "metadata": {},
   "source": [
    "# Blood Pressure Plotting\n",
    "\n",
    "A short notebook demonstrating how to plot BP readings for a cohort of synthetic patients. Hypertension diagnoses, if present in the patient's history, are also displayed.\n",
    "\n",
    "To generate a cohort of 100 synthetic patients run the following command inside your local clone of the repo,\n",
    "\n",
    "`./run_synthea -p 100 --exporter.csv.export true`"
   ]
  },
  {
   "cell_type": "code",
   "execution_count": null,
   "metadata": {},
   "outputs": [],
   "source": [
    "import pandas as pd\n",
    "\n",
    "# Point this to the csv subfolder of the output directory created by Synthea\n",
    "output_path = \"./uk_synthea/output/csv\"\n",
    "\n",
    "conds = pd.read_csv(f\"{output_path}/conditions.csv\")\n",
    "obs = pd.read_csv(f\"{output_path}/observations.csv\")\n",
    "meds = pd.read_csv(f\"{output_path}/medications.csv\")\n",
    "pats = pd.read_csv(f\"{output_path}/patients.csv\")\n",
    "encounters = pd.read_csv(f\"{output_path}/encounters.csv\")"
   ]
  },
  {
   "cell_type": "code",
   "execution_count": null,
   "metadata": {},
   "outputs": [],
   "source": [
    "import matplotlib.pyplot as plt\n",
    "\n",
    "def date_format(date_str):\n",
    "    truncated_str = date_str[:10]\n",
    "    return pd.to_datetime(truncated_str)\n",
    "\n",
    "\n",
    "def plot_bp(patient_id, obs_df, conds, encounters):\n",
    "    ht_conds = conds[conds[\"DESCRIPTION\"] == \"Essential hypertension (disorder)\"]\n",
    "    ht_patients = list(ht_conds[\"PATIENT\"])\n",
    "    if patient_id in ht_patients:\n",
    "        ht_diagnosis_date = ht_conds[ht_conds[\"PATIENT\"] == patient_id][\"START\"].iloc[0]\n",
    "        print(ht_diagnosis_date)\n",
    "        ht_diagnosis_date = date_format(ht_diagnosis_date)\n",
    "        print(ht_diagnosis_date)\n",
    "    else:\n",
    "        ht_diagnosis_date = None\n",
    "    sys_values = obs_df[(obs_df[\"DESCRIPTION\"].str.contains(\"Systolic\")) & (obs[\"PATIENT\"] == patient_id)]\n",
    "    dia_values = obs_df[(obs_df[\"DESCRIPTION\"].str.contains(\"Diastolic\")) & (obs[\"PATIENT\"] == patient_id)]\n",
    "    fig, ax = plt.subplots(1,1, figsize=(8,4))\n",
    "    ax.xaxis.set_major_locator(plt.MaxNLocator(5))\n",
    "    ax.plot(sys_values[\"DATE\"].apply(date_format), sys_values[\"VALUE\"].astype(float), label = \"systolic\")\n",
    "    ax.plot(dia_values[\"DATE\"].apply(date_format), dia_values[\"VALUE\"].astype(float), label = \"diastolic\")\n",
    "\n",
    "    title = f\"BP Measurements for Patient: {patient_id}\"\n",
    "\n",
    "    if ht_diagnosis_date:\n",
    "        ax.axvline(ht_diagnosis_date, label=\"HT Diagnosis\", c=\"r\", linestyle = \"--\")\n",
    "    ax.set_title(title)\n",
    "    plt.xticks(rotation = 45)\n",
    "    plt.legend()\n",
    "    plt.show()"
   ]
  },
  {
   "cell_type": "code",
   "execution_count": null,
   "metadata": {},
   "outputs": [],
   "source": [
    "ht_patients = list(set(conds[conds[\"DESCRIPTION\"] == \"Essential hypertension (disorder)\"][\"PATIENT\"]))\n",
    "patients = list(set(conds[\"PATIENT\"]))\n",
    "\n",
    "# plot for first 10 patients\n",
    "for pat in patients[:10]:\n",
    "    plot_bp(pat, obs, conds, encounters)"
   ]
  },
  {
   "cell_type": "code",
   "execution_count": null,
   "metadata": {},
   "outputs": [],
   "source": []
  }
 ],
 "metadata": {
  "kernelspec": {
   "display_name": "swp",
   "language": "python",
   "name": "python3"
  },
  "language_info": {
   "codemirror_mode": {
    "name": "ipython",
    "version": 3
   },
   "file_extension": ".py",
   "mimetype": "text/x-python",
   "name": "python",
   "nbconvert_exporter": "python",
   "pygments_lexer": "ipython3",
   "version": "3.9.16"
  }
 },
 "nbformat": 4,
 "nbformat_minor": 2
}
